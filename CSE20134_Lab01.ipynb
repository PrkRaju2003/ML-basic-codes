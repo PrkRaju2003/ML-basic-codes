{
  "nbformat": 4,
  "nbformat_minor": 0,
  "metadata": {
    "colab": {
      "provenance": [],
      "collapsed_sections": []
    },
    "kernelspec": {
      "name": "python3",
      "display_name": "Python 3"
    },
    "language_info": {
      "name": "python"
    }
  },
  "cells": [
    {
      "cell_type": "code",
      "execution_count": 2,
      "metadata": {
        "colab": {
          "base_uri": "https://localhost:8080/"
        },
        "id": "KapP7MEy7Rvz",
        "outputId": "5b058ce4-a248-48ec-ee82-d1001f6a9d06"
      },
      "outputs": [
        {
          "output_type": "stream",
          "name": "stdout",
          "text": [
            "  Customer  Candies (#)  Mangoes (Kg)  Milk Packets (#)  Payment (Rs)\n",
            "0      C_1           20             6                 2           386\n",
            "1      C_2           16             3                 6           289\n",
            "2      C_3           27             6                 2           393\n",
            "3      C_4           19             1                 2           110\n",
            "4      C_5           24             4                 2           280\n",
            "5      C_6           22             1                 5           167\n",
            "6      C_7           15             4                 2           271\n",
            "7      C_8           18             4                 2           274\n",
            "8      C_9           21             1                 4           148\n",
            "9     C_10           16             2                 4           198\n"
          ]
        }
      ],
      "source": [
        "import pandas as pd\n",
        "import numpy as np\n",
        "data_f = pd.read_excel(r'/content/Lab Session1 Data.xlsx', sheet_name=\"Purchase data\")\n",
        "irctc_data = pd.read_excel(r'/content/Lab Session1 Data.xlsx', sheet_name= \"IRCTC Stock Price\")\n",
        "##Make sute to place Lab Session Data 1 Excel FIle in above read excel argument\n",
        "df = pd.DataFrame(data_f)\n",
        "df.drop(df.iloc[:, 5:22], axis=1, inplace=True)\n",
        "print(df)"
      ]
    },
    {
      "cell_type": "code",
      "source": [
        "A_purchase = df.iloc[0:9,1:4]\n",
        "print(A_purchase)\n",
        "A=np.array(A_purchase)\n",
        "print(A)"
      ],
      "metadata": {
        "colab": {
          "base_uri": "https://localhost:8080/"
        },
        "id": "Rk0jPkMWGPdL",
        "outputId": "5dbb00e9-4ff4-400e-d1e8-5e7abd429e79"
      },
      "execution_count": 3,
      "outputs": [
        {
          "output_type": "stream",
          "name": "stdout",
          "text": [
            "   Candies (#)  Mangoes (Kg)  Milk Packets (#)\n",
            "0           20             6                 2\n",
            "1           16             3                 6\n",
            "2           27             6                 2\n",
            "3           19             1                 2\n",
            "4           24             4                 2\n",
            "5           22             1                 5\n",
            "6           15             4                 2\n",
            "7           18             4                 2\n",
            "8           21             1                 4\n",
            "[[20  6  2]\n",
            " [16  3  6]\n",
            " [27  6  2]\n",
            " [19  1  2]\n",
            " [24  4  2]\n",
            " [22  1  5]\n",
            " [15  4  2]\n",
            " [18  4  2]\n",
            " [21  1  4]]\n"
          ]
        }
      ]
    },
    {
      "cell_type": "code",
      "source": [
        "C_total = df.iloc[0:9,4]\n",
        "C = np.array(C_total)\n",
        "C = C.reshape(9,1)\n",
        "print(C)\n"
      ],
      "metadata": {
        "colab": {
          "base_uri": "https://localhost:8080/"
        },
        "id": "-0JDu_V-GcOy",
        "outputId": "cf5eb70c-640d-447e-fe84-2ee548d6b5ae"
      },
      "execution_count": 4,
      "outputs": [
        {
          "output_type": "stream",
          "name": "stdout",
          "text": [
            "[[386]\n",
            " [289]\n",
            " [393]\n",
            " [110]\n",
            " [280]\n",
            " [167]\n",
            " [271]\n",
            " [274]\n",
            " [148]]\n"
          ]
        }
      ]
    },
    {
      "cell_type": "code",
      "source": [
        "print(\"Dimensionality of given data is\", df.shape)"
      ],
      "metadata": {
        "colab": {
          "base_uri": "https://localhost:8080/"
        },
        "id": "Xg6_u4kfHmO7",
        "outputId": "659f2116-c201-41c0-de51-d97806b3c5b5"
      },
      "execution_count": 5,
      "outputs": [
        {
          "output_type": "stream",
          "name": "stdout",
          "text": [
            "Dimensionality of given data is (10, 5)\n"
          ]
        }
      ]
    },
    {
      "cell_type": "code",
      "source": [
        "print(\"Number of rows are\", df.shape[0])"
      ],
      "metadata": {
        "colab": {
          "base_uri": "https://localhost:8080/"
        },
        "id": "ayCIFoiLH2vb",
        "outputId": "e46e03d0-60c7-4fd3-8cfa-d0b3af8088f1"
      },
      "execution_count": 6,
      "outputs": [
        {
          "output_type": "stream",
          "name": "stdout",
          "text": [
            "Number of rows are 10\n"
          ]
        }
      ]
    },
    {
      "cell_type": "code",
      "source": [
        "print(\"The rank of matrix is \", np.linalg.matrix_rank(A_purchase))"
      ],
      "metadata": {
        "colab": {
          "base_uri": "https://localhost:8080/"
        },
        "id": "XcVVsu8PISvy",
        "outputId": "8cc60cfb-f854-46d0-e9c7-32b2778d00c5"
      },
      "execution_count": 7,
      "outputs": [
        {
          "output_type": "stream",
          "name": "stdout",
          "text": [
            "The rank of matrix is  3\n"
          ]
        }
      ]
    },
    {
      "cell_type": "code",
      "source": [
        "Y = np.linalg.pinv(A) \n",
        "print(Y)"
      ],
      "metadata": {
        "colab": {
          "base_uri": "https://localhost:8080/"
        },
        "id": "Ma9Ab6fUI41S",
        "outputId": "40da9983-29fe-4642-8e88-cb1091cc8489"
      },
      "execution_count": 8,
      "outputs": [
        {
          "output_type": "stream",
          "name": "stdout",
          "text": [
            "[[-0.01029074 -0.03304951  0.01017895  0.02894814  0.01827148  0.01045111\n",
            "  -0.0080467   0.00072602  0.01661679]\n",
            " [ 0.0907317   0.07382695  0.03170332 -0.09063689 -0.01891929 -0.06850066\n",
            "   0.05697434  0.03167646 -0.07587941]\n",
            " [ 0.00524254  0.17851348 -0.05838688 -0.06472439 -0.06273987  0.04626489\n",
            "   0.01906939 -0.00820036  0.00926846]]\n"
          ]
        }
      ]
    },
    {
      "cell_type": "code",
      "source": [
        "X = np.dot(Y,C)\n",
        "print(\"Solution is\", X)"
      ],
      "metadata": {
        "colab": {
          "base_uri": "https://localhost:8080/"
        },
        "id": "E6dulwx3TELF",
        "outputId": "cd6b35aa-6b92-446c-c384-104b54c78ba5"
      },
      "execution_count": 9,
      "outputs": [
        {
          "output_type": "stream",
          "name": "stdout",
          "text": [
            "Solution is [[ 1.]\n",
            " [55.]\n",
            " [18.]]\n"
          ]
        }
      ]
    },
    {
      "cell_type": "code",
      "source": [
        "print(\"Cost of a candy is\", X[0])\n",
        "print(\"COst of a mangoe is\", X[1])\n",
        "print(\"Cost of a milk packet is\", X[2])"
      ],
      "metadata": {
        "colab": {
          "base_uri": "https://localhost:8080/"
        },
        "id": "Sccgn1LxTaW0",
        "outputId": "735e93f8-3603-4ccc-f140-ef94462686d1"
      },
      "execution_count": 10,
      "outputs": [
        {
          "output_type": "stream",
          "name": "stdout",
          "text": [
            "Cost of a candy is [1.]\n",
            "COst of a mangoe is [55.]\n",
            "Cost of a milk packet is [18.]\n"
          ]
        }
      ]
    },
    {
      "cell_type": "code",
      "source": [
        "new_df = df\n",
        "status_pay = []\n",
        "for row in df['Payment (Rs)']:\n",
        "  if row < 200 :\n",
        "    status_pay.append('Rich')\n",
        "  elif row>=200 :\n",
        "    status_pay.append('Poor')\n",
        "new_df['Pay']= status_pay\n",
        "print(new_df)"
      ],
      "metadata": {
        "colab": {
          "base_uri": "https://localhost:8080/"
        },
        "id": "ti2CXbPNvL1I",
        "outputId": "6a4dd615-4279-4cb0-e5a1-924ff73098e2"
      },
      "execution_count": 11,
      "outputs": [
        {
          "output_type": "stream",
          "name": "stdout",
          "text": [
            "  Customer  Candies (#)  Mangoes (Kg)  Milk Packets (#)  Payment (Rs)   Pay\n",
            "0      C_1           20             6                 2           386  Poor\n",
            "1      C_2           16             3                 6           289  Poor\n",
            "2      C_3           27             6                 2           393  Poor\n",
            "3      C_4           19             1                 2           110  Rich\n",
            "4      C_5           24             4                 2           280  Poor\n",
            "5      C_6           22             1                 5           167  Rich\n",
            "6      C_7           15             4                 2           271  Poor\n",
            "7      C_8           18             4                 2           274  Poor\n",
            "8      C_9           21             1                 4           148  Rich\n",
            "9     C_10           16             2                 4           198  Rich\n"
          ]
        }
      ]
    },
    {
      "cell_type": "code",
      "source": [
        "irctc_df = pd.DataFrame(irctc_data)\n",
        "print(irctc_df)"
      ],
      "metadata": {
        "colab": {
          "base_uri": "https://localhost:8080/"
        },
        "id": "Q9cj1y7py8YZ",
        "outputId": "535d0f82-13f7-4946-b74c-2fe9c09237f9"
      },
      "execution_count": 12,
      "outputs": [
        {
          "output_type": "stream",
          "name": "stdout",
          "text": [
            "             Date Month  Day    Price     Open     High      Low   Volume  \\\n",
            "0    Jun 29, 2021   Jun  Tue  2081.85  2092.00  2126.90  2065.05    1.67M   \n",
            "1    Jun 28, 2021   Jun  Mon  2077.75  2084.00  2112.45  2068.40  707.73K   \n",
            "2    Jun 25, 2021   Jun  Fri  2068.85  2084.35  2088.50  2053.10  475.82K   \n",
            "3    Jun 24, 2021   Jun  Thu  2072.95  2098.00  2098.00  2066.00  541.51K   \n",
            "4    Jun 23, 2021   Jun  Wed  2078.25  2102.00  2111.40  2072.00  809.62K   \n",
            "..            ...   ...  ...      ...      ...      ...      ...      ...   \n",
            "244  Jul 07, 2020   Jul  Tue  1397.40  1410.00  1411.00  1390.05  480.21K   \n",
            "245  Jul 06, 2020   Jul  Mon  1400.75  1405.50  1415.50  1394.00  614.93K   \n",
            "246  Jul 03, 2020   Jul  Fri  1405.10  1415.00  1425.00  1398.00  599.49K   \n",
            "247  Jul 02, 2020   Jul  Thu  1412.35  1440.00  1467.80  1395.30    2.16M   \n",
            "248  Jul 01, 2020   Jul  Wed  1363.05  1363.65  1377.00  1356.00  383.00K   \n",
            "\n",
            "       Chg%  \n",
            "0    0.0020  \n",
            "1    0.0043  \n",
            "2   -0.0020  \n",
            "3   -0.0026  \n",
            "4   -0.0023  \n",
            "..      ...  \n",
            "244 -0.0024  \n",
            "245 -0.0031  \n",
            "246 -0.0051  \n",
            "247  0.0362  \n",
            "248  0.0032  \n",
            "\n",
            "[249 rows x 9 columns]\n"
          ]
        }
      ]
    },
    {
      "cell_type": "code",
      "source": [
        "irctc_mean = irctc_df[\"Price\"].mean()\n",
        "print(\"Price mean is \", irctc_mean)"
      ],
      "metadata": {
        "colab": {
          "base_uri": "https://localhost:8080/"
        },
        "id": "1kMFhCNA1tuI",
        "outputId": "9b0d1ffd-3b8c-485e-e8c6-8bbbfa9abeeb"
      },
      "execution_count": 13,
      "outputs": [
        {
          "output_type": "stream",
          "name": "stdout",
          "text": [
            "Price mean is  1560.6634538152612\n"
          ]
        }
      ]
    },
    {
      "cell_type": "code",
      "source": [
        "irctc_var = irctc_df[\"Price\"].var()\n",
        "print(\"Price Variance is \", irctc_var)"
      ],
      "metadata": {
        "colab": {
          "base_uri": "https://localhost:8080/"
        },
        "id": "rBgsrfXL2SOR",
        "outputId": "b40442d3-f9a1-442b-db77-7f6a36dd1474"
      },
      "execution_count": 14,
      "outputs": [
        {
          "output_type": "stream",
          "name": "stdout",
          "text": [
            "Price Variance is  58732.36535253918\n"
          ]
        }
      ]
    },
    {
      "cell_type": "code",
      "source": [
        "wed_mean = irctc_df.loc[irctc_df['Day'] == 'Wed', 'Price'].mean()\n",
        "print(wed_mean)\n",
        "print(\"By comapring we can see the sales at IRCTC are less during Wednesdays compared to average\")"
      ],
      "metadata": {
        "colab": {
          "base_uri": "https://localhost:8080/"
        },
        "id": "GoTRfTrH3iFB",
        "outputId": "30cfacc5-1136-4b40-e647-8caebb35247e"
      },
      "execution_count": 15,
      "outputs": [
        {
          "output_type": "stream",
          "name": "stdout",
          "text": [
            "1550.7060000000001\n",
            "By comapring we can see the sales at IRCTC are less during Wednesdays compared to average\n"
          ]
        }
      ]
    },
    {
      "cell_type": "code",
      "source": [
        "apr_mean = irctc_df.loc[irctc_df['Month'] == 'Apr', 'Price'].mean()\n",
        "print(apr_mean)\n",
        "print(\"By comapring we can see the sales at IRCTC are higher during the April Month compared to the average\")"
      ],
      "metadata": {
        "colab": {
          "base_uri": "https://localhost:8080/"
        },
        "id": "bzWLDykF8aCS",
        "outputId": "fd103544-fdd8-4dc4-f41b-a5fa42f5267e"
      },
      "execution_count": 16,
      "outputs": [
        {
          "output_type": "stream",
          "name": "stdout",
          "text": [
            "1698.9526315789474\n",
            "By comapring we can see the sales at IRCTC are higher during the April Month compared to the average\n"
          ]
        }
      ]
    },
    {
      "cell_type": "code",
      "source": [
        "no_of_neg = 0\n",
        "\n",
        "\n",
        "\n",
        "for index,row in irctc_df.iterrows():\n",
        "    if row['Chg%'] < 0:\n",
        "        no_of_neg+=1\n",
        "        \n",
        "print(\"probability of making loss \",no_of_neg/irctc_df.shape[0])"
      ],
      "metadata": {
        "colab": {
          "base_uri": "https://localhost:8080/"
        },
        "id": "vi493JfBdqJf",
        "outputId": "5f001c8a-a86f-466a-a91e-65b958ff2b8d"
      },
      "execution_count": 19,
      "outputs": [
        {
          "output_type": "stream",
          "name": "stdout",
          "text": [
            "probability of making loss  0.4979919678714859\n"
          ]
        }
      ]
    },
    {
      "cell_type": "code",
      "source": [
        "no_of_wed=0\n",
        "no_of_wed_pos=0\n",
        "\n",
        "\n",
        "\n",
        "for index,row in irctc_df.iterrows():\n",
        "    if row['Day']=='Wed':\n",
        "        if row['Chg%']>0:\n",
        "            no_of_wed_pos+=1\n",
        "        no_of_wed+=1\n",
        "        \n",
        "print(\"probability of getting profit on Wednesday \",no_of_wed_pos/no_of_wed)"
      ],
      "metadata": {
        "id": "kg6Ilt7fJjmk",
        "colab": {
          "base_uri": "https://localhost:8080/"
        },
        "outputId": "bdb1f20f-1051-49f5-8950-9955555e26a2"
      },
      "execution_count": 20,
      "outputs": [
        {
          "output_type": "stream",
          "name": "stdout",
          "text": [
            "probability of getting profit on Wednesday  0.42\n"
          ]
        }
      ]
    },
    {
      "cell_type": "code",
      "source": [
        "import matplotlib.pyplot as plt\n",
        "days= []\n",
        "chg= []\n",
        "for index,row in irctc_df.iterrows():\n",
        "    days.append(row['Day'])\n",
        "    chg.append(row['Chg%'])\n",
        "\n",
        "\n",
        "plt.scatter(days, chg)\n",
        "plt.show()"
      ],
      "metadata": {
        "colab": {
          "base_uri": "https://localhost:8080/",
          "height": 268
        },
        "id": "Hw2Eh2YXeVAy",
        "outputId": "314163f6-454c-43c0-eb52-6f012ffb2e69"
      },
      "execution_count": 23,
      "outputs": [
        {
          "output_type": "display_data",
          "data": {
            "text/plain": [
              "<Figure size 432x288 with 1 Axes>"
            ],
            "image/png": "[encoded data removed]"
          },
          "metadata": {
            "needs_background": "light"
          }
        }
      ]
    }
  ]
}